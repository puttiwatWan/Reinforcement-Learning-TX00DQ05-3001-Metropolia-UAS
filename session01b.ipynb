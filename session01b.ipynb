{
 "cells": [
  {
   "cell_type": "markdown",
   "metadata": {},
   "source": [
    "# TX00DQ05-3001 Reinforcement Learning, exercises 1"
   ]
  },
  {
   "cell_type": "code",
   "execution_count": 1,
   "metadata": {},
   "outputs": [],
   "source": [
    "# import numpy and other useful packages\n",
    "import numpy as np\n",
    "import numpy.linalg as LA"
   ]
  },
  {
   "cell_type": "markdown",
   "metadata": {},
   "source": [
    "## Weather example\n",
    "\n",
    "P is the transition matrix and t0 weather on day 0"
   ]
  },
  {
   "cell_type": "code",
   "execution_count": 2,
   "metadata": {},
   "outputs": [
    {
     "name": "stdout",
     "output_type": "stream",
     "text": [
      "[0.6 0.4]\n",
      "[0.36 0.64]\n",
      "[0.36 0.64]\n",
      "[0.42852649 0.57147351]\n",
      "[0.42857143 0.57142857]\n",
      "[0.42857143 0.57142857]\n"
     ]
    }
   ],
   "source": [
    "P = np.array(([0.2, 0.8], [0.6, 0.4]))\n",
    "t0 = np.array([0.0, 1.0])\n",
    "\n",
    "t1 = np.dot(t0, P)\n",
    "print(t1)\n",
    "t2 = np.dot(t1, P)\n",
    "print(t2)\n",
    "print(np.dot(t0, LA.matrix_power(P, 2)))\n",
    "print(np.dot(t0, LA.matrix_power(P, 10)))\n",
    "print(np.dot(t0, LA.matrix_power(P, 30)))\n",
    "print(np.dot(t0, LA.matrix_power(P, 50)))"
   ]
  },
  {
   "cell_type": "markdown",
   "metadata": {},
   "source": [
    "## Exercise 1\n",
    "\n",
    "Check some matrix algebra identities with numpy.\n",
    "\n",
    "* A + B = B + A\n",
    "* cA + cB = c(A + B) where c is scalar\n",
    "* if shape of A is (x,y), shape of A.T (transpose) is (y,x) \n",
    "* if v is vector of shape (x,), then v dot A has shape (y,)\n",
    "* verify that shape of A.T dot B is (y, y) and shape of A dot B.T is (x, x)"
   ]
  },
  {
   "cell_type": "code",
   "execution_count": 3,
   "metadata": {},
   "outputs": [
    {
     "name": "stdout",
     "output_type": "stream",
     "text": [
      "Identity 1: A + B = B + A\n",
      "A + B\n",
      "[[1 3 5]\n",
      " [4 1 3]\n",
      " [5 1 1]\n",
      " [5 3 3]]\n",
      "B + A\n",
      "[[1 3 5]\n",
      " [4 1 3]\n",
      " [5 1 1]\n",
      " [5 3 3]]\n",
      "check if A + B = B + A\n",
      "[[ True  True  True]\n",
      " [ True  True  True]\n",
      " [ True  True  True]\n",
      " [ True  True  True]]\n"
     ]
    }
   ],
   "source": [
    "A = np.array(([1, 2, 3], [2, 0 ,2], [3, 0, 1], [4, 1 ,0]))\n",
    "B = np.array(([0, 1, 2], [2, 1, 1], [2, 1, 0], [1, 2, 3]))\n",
    "\n",
    "# YOUR CODE HERE\n",
    "\n",
    "print('Identity 1: A + B = B + A')\n",
    "print('A + B')\n",
    "check1 = A + B\n",
    "print(check1)\n",
    "print('B + A')\n",
    "check2 = B + A\n",
    "print(check2)\n",
    "print('check if A + B = B + A')\n",
    "print(check1 == check2)"
   ]
  },
  {
   "cell_type": "code",
   "execution_count": 4,
   "metadata": {},
   "outputs": [
    {
     "name": "stdout",
     "output_type": "stream",
     "text": [
      "Identity 2: cA + cB = c(A + B) where c is scalar\n",
      "let c = 2\n",
      "cA\n",
      "[[2 4 6]\n",
      " [4 0 4]\n",
      " [6 0 2]\n",
      " [8 2 0]]\n",
      "cB\n",
      "[[0 2 4]\n",
      " [4 2 2]\n",
      " [4 2 0]\n",
      " [2 4 6]]\n",
      "c(A + B)\n",
      "[[ 2  6 10]\n",
      " [ 8  2  6]\n",
      " [10  2  2]\n",
      " [10  6  6]]\n",
      "cA + cB\n",
      "[[ 2  6 10]\n",
      " [ 8  2  6]\n",
      " [10  2  2]\n",
      " [10  6  6]]\n",
      "check if cA + cB = c(A + B)\n",
      "[[ True  True  True]\n",
      " [ True  True  True]\n",
      " [ True  True  True]\n",
      " [ True  True  True]]\n"
     ]
    }
   ],
   "source": [
    "print('Identity 2: cA + cB = c(A + B) where c is scalar')\n",
    "print('let c = 2')\n",
    "c = 2\n",
    "cA = c * A\n",
    "cB = c * B\n",
    "cAB = c * (A + B)\n",
    "print('cA')\n",
    "print(cA)\n",
    "print('cB')\n",
    "print(cB)\n",
    "print('c(A + B)')\n",
    "print(cAB)\n",
    "print('cA + cB')\n",
    "print(cA + cB)\n",
    "print('check if cA + cB = c(A + B)')\n",
    "print((cA + cB) == cAB)"
   ]
  },
  {
   "cell_type": "code",
   "execution_count": 5,
   "metadata": {},
   "outputs": [
    {
     "name": "stdout",
     "output_type": "stream",
     "text": [
      "Identity 3: if shape of A is (x,y), shape of A.T (transpose) is (y,x)\n",
      "shape of A is (4, 3)\n",
      "[[1 2 3]\n",
      " [2 0 2]\n",
      " [3 0 1]\n",
      " [4 1 0]]\n",
      "shape of A.T is (3, 4)\n",
      "[[1 2 3 4]\n",
      " [2 0 0 1]\n",
      " [3 2 1 0]]\n"
     ]
    }
   ],
   "source": [
    "print('Identity 3: if shape of A is (x,y), shape of A.T (transpose) is (y,x)')\n",
    "print('shape of A is ',end='')\n",
    "print(A.shape)\n",
    "print(A)\n",
    "print('shape of A.T is ',end='')\n",
    "print(A.transpose().shape)\n",
    "print(A.transpose())"
   ]
  },
  {
   "cell_type": "code",
   "execution_count": 6,
   "metadata": {},
   "outputs": [
    {
     "name": "stdout",
     "output_type": "stream",
     "text": [
      "Identity 4: if v is vector of shape (x,), then v dot A has shape (y,)\n",
      "Shape of A is (x,y) = (4, 3)\n",
      "v is a vector of shape (x,) where x=4, let v = [2, 3, 4, 5]\n",
      "Shape of v is (4,)\n",
      "[2 3 4 5]\n",
      "Shape of v dot A is (3,)\n",
      "[40  9 16]\n"
     ]
    }
   ],
   "source": [
    "print('Identity 4: if v is vector of shape (x,), then v dot A has shape (y,)')\n",
    "print('Shape of A is (x,y) = ',end=\"\")\n",
    "print(A.shape)\n",
    "print('v is a vector of shape (x,) where x=4, let v = [2, 3, 4, 5]')\n",
    "v = np.array(([2,3,4,5]))\n",
    "print('Shape of v is ',end=\"\")\n",
    "print(v.shape)\n",
    "print(v)\n",
    "print('Shape of v dot A is ',end=\"\")\n",
    "vA = np.dot(v,A)\n",
    "print(vA.shape)\n",
    "print(vA)"
   ]
  },
  {
   "cell_type": "code",
   "execution_count": 7,
   "metadata": {},
   "outputs": [
    {
     "name": "stdout",
     "output_type": "stream",
     "text": [
      "Identity 5: verify that shape of A.T dot B is (y, y) and shape of A dot B.T is (x, x)\n",
      "Shape of A.T dot B is (3, 3)\n",
      "[[14 14 16]\n",
      " [ 1  4  7]\n",
      " [ 6  6  8]]\n",
      "Shape of A dot B.T is (4, 4)\n",
      "[[ 8  7  4 14]\n",
      " [ 4  6  4  8]\n",
      " [ 2  7  6  6]\n",
      " [ 1  9  9  6]]\n"
     ]
    }
   ],
   "source": [
    "print('Identity 5: verify that shape of A.T dot B is (y, y) and shape of A dot B.T is (x, x)')\n",
    "shape1 = np.dot(A.transpose(),B)\n",
    "shape2 = np.dot(A,B.transpose())\n",
    "print('Shape of A.T dot B is ',end='')\n",
    "print(shape1.shape)\n",
    "print(shape1)\n",
    "print('Shape of A dot B.T is ',end='')\n",
    "print(shape2.shape)\n",
    "print(shape2)"
   ]
  },
  {
   "cell_type": "markdown",
   "metadata": {},
   "source": [
    "## Exercise 2\n",
    "\n",
    "Throw a dice (1..6) repeadetly and maintain the mean value of the \n",
    "numbers continously (and without explicitly storing the numbers or their sum) by\n",
    "computing a correction factor to the previous mean.\n",
    "\n",
    "Hint: mean(n) = sum(n) / n = (sum(n-1) + a(n)) / n = (mean(n-1) * (n-1) + a(n)) / n =\n",
    "mean(n-1) + (a(n) - mean(n-1)) / n\n",
    "\n",
    "Stop computation when correction factor stays below eps for b rounds or if you reach maxiter iterations.\n",
    "\n",
    "How does changing eps and b influence the number of iterations needed?"
   ]
  },
  {
   "cell_type": "code",
   "execution_count": 8,
   "metadata": {},
   "outputs": [
    {
     "name": "stdout",
     "output_type": "stream",
     "text": [
      "Input your iterations: 10\n",
      "Iter 0 number = 1\n",
      "Iter 1 number = 4\n",
      "Iter 2 number = 4\n",
      "Iter 3 number = 6\n",
      "Iter 4 number = 5\n",
      "Iter 5 number = 1\n",
      "Iter 6 number = 3\n",
      "Iter 7 number = 3\n",
      "Iter 8 number = 4\n",
      "Iter 9 number = 6\n",
      "Final mean is  3.7\n"
     ]
    }
   ],
   "source": [
    "eps = 0.00001\n",
    "b = 50\n",
    "maxiter = 1000000\n",
    "\n",
    "# YOUR CODE HERE\n",
    "\n",
    "def roll_dice():\n",
    "    return np.random.randint(1,7)\n",
    "\n",
    "count = 0\n",
    "n = int(input(\"Input your iterations: \"))\n",
    "if n > maxiter:\n",
    "    print('Your number is greater than the maximum  iteration (1000000).')\n",
    "    print('The iteration number is changed to maximum iteration (1000000).')\n",
    "    n = maxiter\n",
    "    \n",
    "for i in range(n):\n",
    "    number = roll_dice()\n",
    "    print('Iter ' + str(i) +' number = ' + str(number))\n",
    "    if i == 0:\n",
    "        mean = number\n",
    "    else:\n",
    "        if (number - mean)/(i+1) <= eps:\n",
    "            count += 1\n",
    "        else:\n",
    "            count = 0\n",
    "        if count >= b:\n",
    "            break\n",
    "        mean = mean + (number - mean)/(i+1)\n",
    "\n",
    "print('Final mean is ', mean)"
   ]
  },
  {
   "cell_type": "markdown",
   "metadata": {},
   "source": [
    "## Exercise 3\n",
    "\n",
    "Given transition matrix P and initial state t0 write \n",
    "an iterative algorithm to find the steady state.\n",
    "\n",
    "Stopping condition is that the norm (length of vector, use LA.norm) \n",
    "does not change more than eps in an iteration"
   ]
  },
  {
   "cell_type": "code",
   "execution_count": 9,
   "metadata": {},
   "outputs": [
    {
     "name": "stdout",
     "output_type": "stream",
     "text": [
      "Iter: 0 state = [1. 0. 0.]\n",
      "Norm difference is 0.26515307716504666\n",
      "--------------------------------------------\n",
      "Iter: 1 state = [0.2 0.1 0.7]\n",
      "Norm difference is 0.08862714597881283\n",
      "--------------------------------------------\n",
      "Iter: 2 state = [0.28 0.16 0.56]\n",
      "Norm difference is 0.005744952994968022\n",
      "--------------------------------------------\n",
      "Iter: 3 state = [0.328 0.14  0.532]\n",
      "Norm difference is 0.005978639274419328\n",
      "--------------------------------------------\n",
      "Iter: 4 state = [0.312  0.1392 0.5488]\n",
      "Norm difference is 0.0008776321133950882\n",
      "--------------------------------------------\n",
      "Iter: 5 state = [0.31136 0.14096 0.54768]\n",
      "Norm difference is 0.00033148427594276164\n",
      "--------------------------------------------\n",
      "Iter: 6 state = [0.312768 0.140672 0.54656 ]\n",
      "Norm difference is 0.0001359260202444812\n",
      "--------------------------------------------\n",
      "Iter: 7 state = [0.3125376 0.1405888 0.5468736]\n",
      "Norm difference is 8.06676956455199e-07\n",
      "--------------------------------------------\n",
      "Iter: 8 state = [0.31247104 0.14062848 0.54690048]\n",
      "Norm difference is 1.0723596205242103e-05\n",
      "--------------------------------------------\n",
      "Iter: 9 state = [0.31250278 0.1406272  0.54687002]\n",
      "Norm difference is 2.2089405642411464e-06\n",
      "--------------------------------------------\n",
      "Iter: 10 state = [0.31250176 0.14062428 0.54687396]\n",
      "Norm difference is 4.1600557543208794e-07\n",
      "--------------------------------------------\n",
      "Iter: 11 state = [0.31249943 0.14062497 0.54687561]\n",
      "Norm difference is 2.599191551988511e-07\n",
      "--------------------------------------------\n",
      "Iter: 12 state = [0.31249997 0.14062506 0.54687496]\n",
      "Norm difference is 1.870303589779354e-08\n",
      "--------------------------------------------\n",
      "Final state is [0.31250005 0.14062499 0.54687496] with norm 0.6453711262233571\n",
      "Number of iterations: 13\n"
     ]
    }
   ],
   "source": [
    "maxiter = 10000\n",
    "eps = 0.0000001\n",
    "\n",
    "P = np.array(([0.2, 0.1, 0.7], [1.0, 0.0, 0.0], [0.2, 0.2, 0.6]))\n",
    "t0 = np.array([1.0, 0.0, 0.0])\n",
    "\n",
    "# YOUR CODE HERE\n",
    "for i in range(maxiter):\n",
    "    print('Iter: ' + str(i) + ' state = ', end=\"\")\n",
    "    print(t0)\n",
    "    prev_norm = LA.norm(t0)\n",
    "    t0 = np.dot(t0,P)\n",
    "    norm_diff = np.absolute(LA.norm(t0) - prev_norm)\n",
    "    print('Norm difference is ' + str(norm_diff))\n",
    "    print('--------------------------------------------')\n",
    "    if norm_diff <= eps:\n",
    "        break\n",
    "        \n",
    "print('Final state is ', end='')\n",
    "print(t0, end='')\n",
    "print(' with norm ',end='')\n",
    "print(LA.norm(t0))\n",
    "print('Number of iterations: ' + str(i+1))"
   ]
  }
 ],
 "metadata": {
  "kernelspec": {
   "display_name": "Python 3",
   "language": "python",
   "name": "python3"
  },
  "language_info": {
   "codemirror_mode": {
    "name": "ipython",
    "version": 3
   },
   "file_extension": ".py",
   "mimetype": "text/x-python",
   "name": "python",
   "nbconvert_exporter": "python",
   "pygments_lexer": "ipython3",
   "version": "3.6.7"
  }
 },
 "nbformat": 4,
 "nbformat_minor": 2
}
